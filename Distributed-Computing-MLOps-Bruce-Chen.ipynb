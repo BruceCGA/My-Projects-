{
  "cells": [
    {
      "cell_type": "code",
      "execution_count": 1,
      "metadata": {
        "id": "_dmlYY7J26Vj"
      },
      "outputs": [],
      "source": [
        "import os\n",
        "import pyspark\n",
        "from pyspark.sql import SparkSession\n",
        "from pyspark.sql.functions import col"
      ]
    },
    {
      "cell_type": "code",
      "execution_count": 2,
      "metadata": {
        "colab": {
          "base_uri": "https://localhost:8080/"
        },
        "id": "N1h3AlCR2zdf",
        "outputId": "7f1742ee-5b66-4757-aaaa-d381d4e15eaa"
      },
      "outputs": [
        {
          "name": "stdout",
          "output_type": "stream",
          "text": [
            "Spark jars directory: /usr/local/lib/python3.11/dist-packages/pyspark/jars\n"
          ]
        }
      ],
      "source": [
        "# Get path to pyspark package and its jars directory\n",
        "spark_jars_dir = os.path.join(os.path.dirname(pyspark.__file__), \"jars\")\n",
        "print(f\"Spark jars directory: {spark_jars_dir}\")\n",
        "\n",
        "# Download the connector JAR to the Spark jars directory\n",
        "!wget -q https://storage.googleapis.com/hadoop-lib/gcs/gcs-connector-hadoop3-latest.jar -P {spark_jars_dir}\n",
        "\n",
        "# Create Spark session\n",
        "spark = SparkSession.builder \\\n",
        "    .appName(\"Read GCS Parquet\") \\\n",
        "    .config(\"spark.jars\", \"gcs-connector-hadoop3-latest.jar\") \\\n",
        "    .config(\"spark.jars.packages\", \"graphframes:graphframes:0.8.2-spark3.1-s_2.12\") \\\n",
        "    .config(\"fs.gs.impl\", \"com.google.cloud.hadoop.fs.gcs.GoogleHadoopFileSystem\") \\\n",
        "    .config(\"fs.AbstractFileSystem.gs.impl\", \"com.google.cloud.hadoop.fs.gcs.GoogleHadoopFS\") \\\n",
        "    .config(\"spark.hadoop.fs.gs.auth.type\", \"NONE\") \\\n",
        "    .config(\"spark.hadoop.google.cloud.auth.service.account.enable\", \"false\") \\\n",
        "    .config(\"spark.hadoop.fs.gs.project.id\", \"\") \\\n",
        "    .config(\"spark.hadoop.google.cloud.auth.null.enable\", \"true\") \\\n",
        "    .getOrCreate()"
      ]
    },
    {
      "cell_type": "code",
      "execution_count": 3,
      "metadata": {
        "id": "5oFeMrcK4aj9"
      },
      "outputs": [],
      "source": [
        "# Load the data\n",
        "posts_df = spark.read.parquet(\"gs://rotman-data/so-small/posts.parquet\")"
      ]
    },
    {
      "cell_type": "code",
      "execution_count": 4,
      "metadata": {
        "colab": {
          "base_uri": "https://localhost:8080/"
        },
        "id": "duu-8kjV5mc1",
        "outputId": "5f7be832-73e5-44ae-ae8d-9582ca3cfd05"
      },
      "outputs": [
        {
          "name": "stdout",
          "output_type": "stream",
          "text": [
            "root\n",
            " |-- _AcceptedAnswerId: long (nullable = true)\n",
            " |-- _AnswerCount: long (nullable = true)\n",
            " |-- _Body: string (nullable = true)\n",
            " |-- _ClosedDate: timestamp (nullable = true)\n",
            " |-- _CommentCount: long (nullable = true)\n",
            " |-- _CommunityOwnedDate: timestamp (nullable = true)\n",
            " |-- _ContentLicense: string (nullable = true)\n",
            " |-- _CreationDate: timestamp (nullable = true)\n",
            " |-- _Id: long (nullable = true)\n",
            " |-- _LastActivityDate: timestamp (nullable = true)\n",
            " |-- _LastEditDate: timestamp (nullable = true)\n",
            " |-- _LastEditorDisplayName: string (nullable = true)\n",
            " |-- _LastEditorUserId: long (nullable = true)\n",
            " |-- _OwnerDisplayName: string (nullable = true)\n",
            " |-- _OwnerUserId: long (nullable = true)\n",
            " |-- _ParentId: long (nullable = true)\n",
            " |-- _PostTypeId: long (nullable = true)\n",
            " |-- _Score: long (nullable = true)\n",
            " |-- _Tags: string (nullable = true)\n",
            " |-- _Title: string (nullable = true)\n",
            " |-- _ViewCount: long (nullable = true)\n",
            "\n",
            "+-----------------+------------+--------------------+-----------+-------------+--------------------+---------------+--------------------+------+--------------------+--------------------+----------------------+-----------------+-----------------+------------+---------+-----------+------+--------------------+--------------------+----------+\n",
            "|_AcceptedAnswerId|_AnswerCount|               _Body|_ClosedDate|_CommentCount| _CommunityOwnedDate|_ContentLicense|       _CreationDate|   _Id|   _LastActivityDate|       _LastEditDate|_LastEditorDisplayName|_LastEditorUserId|_OwnerDisplayName|_OwnerUserId|_ParentId|_PostTypeId|_Score|               _Tags|              _Title|_ViewCount|\n",
            "+-----------------+------------+--------------------+-----------+-------------+--------------------+---------------+--------------------+------+--------------------+--------------------+----------------------+-----------------+-----------------+------------+---------+-----------+------+--------------------+--------------------+----------+\n",
            "|             NULL|        NULL|<p>Since your fir...|       NULL|            4|                NULL|   CC BY-SA 2.5|2009-05-27 19:23:...|917569|2009-05-27 19:32:...|2009-05-27 19:32:...|                  NULL|              945|             NULL|         945|   917527|          2|     1|                NULL|                NULL|      NULL|\n",
            "|             NULL|        NULL|<p><a href=\"http:...|       NULL|            3|                NULL|   CC BY-SA 2.5|2009-05-27 18:57:...|917421|2009-05-27 19:02:...|2009-05-27 19:02:...|                  NULL|            10755|             NULL|       10755|   917411|          2|     7|                NULL|                NULL|      NULL|\n",
            "|             NULL|        NULL|<p>Going to strai...|       NULL|            0|                NULL|   CC BY-SA 2.5|2009-05-27 19:35:...|917603|2009-05-27 19:35:...|                NULL|                  NULL|             NULL|             NULL|       13302|   916873|          2|     2|                NULL|                NULL|      NULL|\n",
            "|             NULL|        NULL|<p>Just use <a hr...|       NULL|            0|                NULL|   CC BY-SA 3.0|2009-05-27 19:39:...|917621|2012-01-26 17:49:...|2012-01-26 17:49:...|                  NULL|           726242|             NULL|       64044|   917604|          2|     7|                NULL|                NULL|      NULL|\n",
            "|             NULL|        NULL|<p>If the table i...|       NULL|            2|                NULL|   CC BY-SA 2.5|2009-05-27 19:50:...|917689|2009-05-27 19:50:...|                NULL|                  NULL|             NULL|             NULL|       95810|   917640|          2|    33|                NULL|                NULL|      NULL|\n",
            "|           917548|           2|<p>I have a custo...|       NULL|            0|                NULL|   CC BY-SA 3.0|2009-05-27 18:51:...|917391|2018-03-26 09:40:...|2011-05-26 18:25:...|                  NULL|            13430|             NULL|       13430|     NULL|          1|     3|<c++><qt><syntax-...|QPainter colored ...|      3677|\n",
            "|             NULL|        NULL|<p>No, it's not p...|       NULL|            2|                NULL|   CC BY-SA 2.5|2009-05-27 19:55:...|917714|2009-05-27 19:55:...|                NULL|                  NULL|             NULL|             NULL|       82865|   917604|          2|     9|                NULL|                NULL|      NULL|\n",
            "|             NULL|        NULL|<p>I suspect this...|       NULL|            2|2009-05-27 20:13:...|   CC BY-SA 2.5|2009-05-27 20:13:...|917801|2009-05-27 20:13:...|                NULL|                  NULL|             NULL|             NULL|       22656|   917756|          2|     3|                NULL|                NULL|      NULL|\n",
            "|           917717|           3|<p>So I'm writing...|       NULL|            2|                NULL|   CC BY-SA 2.5|2009-05-27 19:08:...|917484|2010-05-08 13:11:...|2010-05-08 13:11:...|                  NULL|           179520|             NULL|       47450|     NULL|          1|     4|<java><maps><geos...|Determining wheth...|      2546|\n",
            "|             NULL|        NULL|<p>You've bound t...|       NULL|            2|                NULL|   CC BY-SA 2.5|2009-05-27 18:24:...|917281|2009-05-27 18:24:...|                NULL|                  NULL|             NULL|             NULL|       30461|   914260|          2|     1|                NULL|                NULL|      NULL|\n",
            "+-----------------+------------+--------------------+-----------+-------------+--------------------+---------------+--------------------+------+--------------------+--------------------+----------------------+-----------------+-----------------+------------+---------+-----------+------+--------------------+--------------------+----------+\n",
            "only showing top 10 rows\n",
            "\n"
          ]
        }
      ],
      "source": [
        "posts_df.printSchema()\n",
        "posts_df.show(10)"
      ]
    },
    {
      "cell_type": "code",
      "execution_count": 5,
      "metadata": {
        "id": "2QfDDTNq6C4M"
      },
      "outputs": [],
      "source": [
        "tags_df = spark.read.parquet(\"gs://rotman-data/so-small/tags.parquet\")"
      ]
    },
    {
      "cell_type": "code",
      "execution_count": 6,
      "metadata": {
        "colab": {
          "base_uri": "https://localhost:8080/"
        },
        "id": "ZClIjZIO6Q_2",
        "outputId": "ad976400-2aef-4247-c252-02846a3f62e2"
      },
      "outputs": [
        {
          "name": "stdout",
          "output_type": "stream",
          "text": [
            "root\n",
            " |-- _Count: long (nullable = true)\n",
            " |-- _ExcerptPostId: long (nullable = true)\n",
            " |-- _Id: long (nullable = true)\n",
            " |-- _TagName: string (nullable = true)\n",
            " |-- _WikiPostId: long (nullable = true)\n",
            "\n",
            "+-------+--------------+---+----------+-----------+\n",
            "| _Count|_ExcerptPostId|_Id|  _TagName|_WikiPostId|\n",
            "+-------+--------------+---+----------+-----------+\n",
            "| 341481|       3624959|  1|      .net|    3607476|\n",
            "|1191229|       3673183|  2|      html|    3673182|\n",
            "|2537512|       3624960|  3|javascript|    3607052|\n",
            "| 808824|       3644670|  4|       css|    3644669|\n",
            "|1469725|       3624936|  5|       php|    3607050|\n",
            "| 408021|       3624961|  8|         c|    3607013|\n",
            "|1626156|       3624962|  9|        c#|    3607007|\n",
            "| 814806|       3624963| 10|       c++|    3606997|\n",
            "| 229389|       3624964| 12|      ruby|    3607043|\n",
            "|   7037|       3656743| 14|      lisp|    3656742|\n",
            "|2219286|       3624965| 16|    python|    3607014|\n",
            "|1923031|       3624966| 17|      java|    3607018|\n",
            "| 261134|       3624967| 18|     regex|    3607017|\n",
            "| 215380|       3624968| 19|       xml|    3607588|\n",
            "| 662134|       3624969| 21|     mysql|    3607033|\n",
            "| 675348|       3625226| 22|       sql|    3607304|\n",
            "|  73557|       4777787| 23|     t-sql|    4777786|\n",
            "|     63|       8355939| 26|        j#|    8355938|\n",
            "|  26861|       5388160| 27|   browser|    5388159|\n",
            "|  86704|       4890031| 28|      linq|    4890030|\n",
            "+-------+--------------+---+----------+-----------+\n",
            "only showing top 20 rows\n",
            "\n"
          ]
        }
      ],
      "source": [
        "tags_df.printSchema()\n",
        "tags_df.show(20)"
      ]
    },
    {
      "cell_type": "markdown",
      "metadata": {
        "id": "B5M2tcCMVKxe"
      },
      "source": [
        "Option 2: Tag Co-occurrence Networks\n",
        "\n",
        "Precise Question: Which technologies are most commonly used together, and what distinct technology ecosystems can be identified from tag co-occurrence patterns?\n",
        "\n",
        "Expected Output:\n",
        "1. A DataFrame with columns: tag1, tag2, co_occurrence_count, similarity\n",
        "- tag1, tag2: Pairs of tags that appear together\n",
        "- co_occurrence_count: Number of posts where both tags appear\n",
        "- similarity: Similarity score calculated as intersection/union of posts (Jaccard similarity, TF-IDF, etc)\n",
        "2. A list of the top 30 most strongly connected tag pairs, ranked by similarity\n",
        "3. A visualization or table showing at least 3 identified technology clusters with their core and peripheral technologies\n",
        "\n",
        "Key Spark Concepts: Complex aggregations, self-joins, graph analysis techniques"
      ]
    },
    {
      "cell_type": "markdown",
      "metadata": {
        "id": "2Ms5ULBNWr8G"
      },
      "source": [
        "### A DataFrame with columns: tag1, tag2, co_occurrence_count, similarity"
      ]
    },
    {
      "cell_type": "code",
      "execution_count": 7,
      "metadata": {
        "id": "XVVs_YOlVKfg"
      },
      "outputs": [],
      "source": [
        "from pyspark.sql import functions as F"
      ]
    },
    {
      "cell_type": "code",
      "execution_count": 8,
      "metadata": {
        "id": "FsB6Q8fIbNx3"
      },
      "outputs": [],
      "source": [
        "# Change the tags string into lists\n",
        "posts_with_tags_df = posts_df.withColumn(\n",
        "    \"tags\",\n",
        "    F.split(                                # Step 3: split on commas\n",
        "        F.regexp_replace(                  # Step 2: replace >< with ,\n",
        "            F.regexp_replace(             # Step 1: remove leading/trailing <>\n",
        "                F.col(\"_Tags\"),\n",
        "                \"^<|>$\",                  # regex for start-of-string < or end-of-string >\n",
        "                \"\"\n",
        "            ),\n",
        "            \"><\",\n",
        "            \",\"\n",
        "        ),\n",
        "        \",\"\n",
        "    )\n",
        ")"
      ]
    },
    {
      "cell_type": "code",
      "execution_count": 9,
      "metadata": {
        "id": "aukIfd5rdGzc"
      },
      "outputs": [],
      "source": [
        "posts_with_tags_df = posts_with_tags_df.select(\"_Id\", \"tags\")"
      ]
    },
    {
      "cell_type": "code",
      "execution_count": 10,
      "metadata": {
        "colab": {
          "base_uri": "https://localhost:8080/"
        },
        "id": "z0zEu8djfmBN",
        "outputId": "eb38b28a-5bcc-43c0-e6c9-93c596bf1131"
      },
      "outputs": [
        {
          "name": "stdout",
          "output_type": "stream",
          "text": [
            "+------+--------------------+\n",
            "|   _Id|                tags|\n",
            "+------+--------------------+\n",
            "|917569|                NULL|\n",
            "|917421|                NULL|\n",
            "|917603|                NULL|\n",
            "|917621|                NULL|\n",
            "|917689|                NULL|\n",
            "|917391|[c++, qt, syntax-...|\n",
            "|917714|                NULL|\n",
            "|917801|                NULL|\n",
            "|917484|[java, maps, geos...|\n",
            "|917281|                NULL|\n",
            "+------+--------------------+\n",
            "only showing top 10 rows\n",
            "\n"
          ]
        }
      ],
      "source": [
        "posts_with_tags_df.show(10)"
      ]
    },
    {
      "cell_type": "code",
      "execution_count": 12,
      "metadata": {
        "id": "VT7-dVpkVHpC"
      },
      "outputs": [],
      "source": [
        "# Filter out non_null tags\n",
        "non_null_posts = posts_with_tags_df.filter(F.col(\"tags\").isNotNull())"
      ]
    },
    {
      "cell_type": "code",
      "execution_count": 13,
      "metadata": {
        "colab": {
          "base_uri": "https://localhost:8080/"
        },
        "id": "14z_RL6qVLgd",
        "outputId": "fbf10350-1a5e-4040-87dd-a16a086d16d1"
      },
      "outputs": [
        {
          "name": "stdout",
          "output_type": "stream",
          "text": [
            "+------+--------------------+\n",
            "|   _Id|                tags|\n",
            "+------+--------------------+\n",
            "|917391|[c++, qt, syntax-...|\n",
            "|917484|[java, maps, geos...|\n",
            "|917283|[interop, marshal...|\n",
            "|917419|    [xhtml, ms-word]|\n",
            "|917616|[c#, delegates, l...|\n",
            "+------+--------------------+\n",
            "only showing top 5 rows\n",
            "\n"
          ]
        }
      ],
      "source": [
        "non_null_posts.show(5)"
      ]
    },
    {
      "cell_type": "code",
      "execution_count": 14,
      "metadata": {
        "id": "0GkkGnTdfyn-"
      },
      "outputs": [],
      "source": [
        "# Make sure each post’s tag array has no duplicates\n",
        "distinct_tags_df = non_null_posts.select(\n",
        "    F.col(\"_Id\"),\n",
        "    F.array_distinct(F.col(\"tags\")).alias(\"tags\")\n",
        ")"
      ]
    },
    {
      "cell_type": "code",
      "execution_count": 15,
      "metadata": {
        "id": "FGh3I0G9f8mF"
      },
      "outputs": [],
      "source": [
        "# transforming each element of the list into its own row\n",
        "exploded = distinct_tags_df.select(\n",
        "    \"_Id\",\n",
        "    F.explode(\"tags\").alias(\"tag\")\n",
        ")"
      ]
    },
    {
      "cell_type": "code",
      "execution_count": 16,
      "metadata": {
        "id": "-JeadcLX9wob"
      },
      "outputs": [],
      "source": [
        "# Self-join on postId to find pairs\n",
        "pairs_df = (\n",
        "    exploded.alias(\"df1\")\n",
        "    .join(exploded.alias(\"df2\"), on=\"_Id\")\n",
        "    .filter(F.col(\"df1.tag\") < F.col(\"df2.tag\"))  # enforce ordering tag1 < tag2\n",
        "    .select(\n",
        "        F.col(\"df1.tag\").alias(\"tag1\"),\n",
        "        F.col(\"df2.tag\").alias(\"tag2\")\n",
        "    )\n",
        ")"
      ]
    },
    {
      "cell_type": "code",
      "execution_count": 19,
      "metadata": {
        "id": "pwakHXIgACjr"
      },
      "outputs": [],
      "source": [
        "# grouping by each unique pair of tags (tag1, tag2) and then counting how many times each pair appear\n",
        "cooccurrence_df = pairs_df.groupBy(\"tag1\", \"tag2\").count()\n",
        "cooccurrence_df = cooccurrence_df.withColumnRenamed(\"count\", \"co_occurrence_count\")"
      ]
    },
    {
      "cell_type": "code",
      "execution_count": null,
      "metadata": {
        "id": "uH1tLwXOAO8a"
      },
      "outputs": [],
      "source": [
        "# rename columns for clarity\n",
        "tags_count_df = tags_df.select(\n",
        "    F.col(\"_TagName\").alias(\"tag\"),\n",
        "    F.col(\"_Count\").alias(\"usage_count\")\n",
        ")"
      ]
    },
    {
      "cell_type": "code",
      "execution_count": 21,
      "metadata": {
        "id": "WG1PT7zzAWhe"
      },
      "outputs": [],
      "source": [
        "# Join the co-occurrence counts to usage counts\n",
        "coocc_with_counts_df = (\n",
        "    cooccurrence_df\n",
        "    .join(tags_count_df.alias(\"t1\"), cooccurrence_df[\"tag1\"] == F.col(\"t1.tag\"))\n",
        "    .join(tags_count_df.alias(\"t2\"), cooccurrence_df[\"tag2\"] == F.col(\"t2.tag\"))\n",
        "    .select(\n",
        "        F.col(\"tag1\"),\n",
        "        F.col(\"tag2\"),\n",
        "        F.col(\"co_occurrence_count\"),\n",
        "        F.col(\"t1.usage_count\").alias(\"count_tag1\"),\n",
        "        F.col(\"t2.usage_count\").alias(\"count_tag2\")\n",
        "    )\n",
        ")"
      ]
    },
    {
      "cell_type": "code",
      "execution_count": 22,
      "metadata": {
        "id": "C-KIvkdcAjrj"
      },
      "outputs": [],
      "source": [
        "# Calculate Jaccard similarity\n",
        "coocc_with_similarity_df = coocc_with_counts_df.withColumn(\n",
        "    \"similarity\",\n",
        "    F.col(\"co_occurrence_count\") / (\n",
        "        F.col(\"count_tag1\") + F.col(\"count_tag2\") - F.col(\"co_occurrence_count\")\n",
        "    )\n",
        ")"
      ]
    },
    {
      "cell_type": "code",
      "execution_count": 23,
      "metadata": {
        "id": "pukM2AGOXotS"
      },
      "outputs": [],
      "source": [
        "MAIN_DF = coocc_with_similarity_df.drop(\"count_tag1\", \"count_tag2\")"
      ]
    },
    {
      "cell_type": "markdown",
      "metadata": {
        "id": "YT-qqDqsXEI4"
      },
      "source": [
        "This is the desired DataFrame with columns: tag1, tag2, co_occurrence_count,similarity."
      ]
    },
    {
      "cell_type": "code",
      "execution_count": 24,
      "metadata": {
        "colab": {
          "base_uri": "https://localhost:8080/"
        },
        "id": "HY0xGFhXYHuW",
        "outputId": "c241a38b-4b9f-40e7-b4bb-1aa56d192c7d"
      },
      "outputs": [
        {
          "name": "stdout",
          "output_type": "stream",
          "text": [
            "+--------+------------+-------------------+--------------------+\n",
            "|    tag1|        tag2|co_occurrence_count|          similarity|\n",
            "+--------+------------+-------------------+--------------------+\n",
            "|    html|radio-button|                259|2.152908005160329...|\n",
            "|     sql|     tagging|                  5|7.393562277453775E-6|\n",
            "|   shell|        unix|               1195|0.008557964994700507|\n",
            "|     git|       macos|                174|6.385766347011351E-4|\n",
            "|database|  text-files|                 10|4.939613228284225E-5|\n",
            "+--------+------------+-------------------+--------------------+\n",
            "only showing top 5 rows\n",
            "\n"
          ]
        }
      ],
      "source": [
        "MAIN_DF.show(5)"
      ]
    },
    {
      "cell_type": "markdown",
      "metadata": {
        "id": "5TMGldSIWp2O"
      },
      "source": [
        "### A list of the top 30 most strongly connected tag pairs, ranked by similarity"
      ]
    },
    {
      "cell_type": "code",
      "execution_count": 25,
      "metadata": {
        "id": "oXdqZes4EwrT"
      },
      "outputs": [],
      "source": [
        "top_30_pairs_df = (\n",
        "    MAIN_DF\n",
        "    .orderBy(F.desc(\"similarity\"))   # Sort descending by similarity\n",
        "    .limit(30)                       # Keep only top 30\n",
        ")"
      ]
    },
    {
      "cell_type": "code",
      "execution_count": 26,
      "metadata": {
        "id": "9OxIgJlkcBIQ"
      },
      "outputs": [],
      "source": [
        "top_30_list = top_30_pairs_df.collect()\n",
        "\n",
        "# Now top_30_list is a list of Row objects. You can convert each Row to a tuple if desired:\n",
        "top_30_tuples = [\n",
        "    (row[\"tag1\"], row[\"tag2\"], row[\"similarity\"])\n",
        "    for row in top_30_list\n",
        "]"
      ]
    },
    {
      "cell_type": "markdown",
      "metadata": {
        "id": "1rB302-eZgnp"
      },
      "source": [
        "Here is a list of the top 30 most strongly connected tag pairs, ranked by similarity."
      ]
    },
    {
      "cell_type": "code",
      "execution_count": 27,
      "metadata": {
        "colab": {
          "base_uri": "https://localhost:8080/"
        },
        "id": "3bg18GZdcF-P",
        "outputId": "7ef729a9-2d88-4126-e9be-13bd22e72d06"
      },
      "outputs": [
        {
          "name": "stdout",
          "output_type": "stream",
          "text": [
            "[('compress4j', 'jarchivelib', 1.0), ('harvester', 'harvester-hci', 1.0), ('fabric-lakehouse', 'fabric-warehouse', 1.0), ('appenvoy', 'mobileposse', 1.0), ('node-ottoman', 'ottoman', 1.0), ('mutablemapping', 'shadowsocks', 1.0), ('isolated-context', 'rebrowser', 1.0), ('android-xr', 'scenecore', 1.0), ('field-device-tool', 'xdr-schema', 0.5), ('ton-gas', 'tvm-ton', 0.5), ('intel-dl-frameworks', 'intel-dnn', 0.3333333333333333), ('android-compose-switch', 'jetpack-compose-switch', 0.25), ('resourcesloader', 'resourcesprovider', 0.25), ('camelot-.net-connector', 'camelot-php-tools', 0.25), ('angular-moviemasher', 'moviemasher', 0.25), ('drakon', 'drakon-editor', 0.2), ('netrexx', 'oorexx', 0.2), ('android-lockscreenwidget', 'flutter-lockscreenwidget', 0.2), ('tus-js-client', 'tusdotnet', 0.2), ('mostjs', 'motorcycle', 0.2), ('palmdb', 'pdb-palm', 0.16666666666666666), ('jetbrains-space', 'jetbrains-space-automation', 0.16666666666666666), ('mainlooper', 'robolectric-shadows', 0.16666666666666666), ('angularjs-ng-class-even', 'angularjs-ng-class-odd', 0.16666666666666666), ('neshan-android-sdk', 'neshan-platform', 0.16666666666666666), ('kendo-spa', 'kendo-view', 0.16666666666666666), ('fabricator', 'fabricator-assemble', 0.16666666666666666), ('tina-cms', 'tinacms', 0.16666666666666666), ('database-com', 'database-com-sdk', 0.16666666666666666), ('fluid-mac-app-engine', 'greasekit', 0.14285714285714285)]\n",
            "30\n"
          ]
        }
      ],
      "source": [
        "print(top_30_tuples)\n",
        "print(len(top_30_tuples))"
      ]
    },
    {
      "cell_type": "markdown",
      "metadata": {
        "id": "bJXZKtNSXC7K"
      },
      "source": [
        "### A visualization or table showing at least 3 identified technology clusters with their core and peripheral technologies"
      ]
    },
    {
      "cell_type": "code",
      "execution_count": 28,
      "metadata": {
        "id": "OykdMi0Hn7VY"
      },
      "outputs": [],
      "source": [
        "# In order to form more meaningful clusters, first filter out low similarity pairs\n",
        "filtered_df = MAIN_DF.filter(F.col(\"similarity\") >= 0.025)"
      ]
    },
    {
      "cell_type": "code",
      "execution_count": 29,
      "metadata": {
        "colab": {
          "base_uri": "https://localhost:8080/"
        },
        "id": "a94BN555oHqf",
        "outputId": "4461522b-111a-4580-d544-0bbdd8df0b30"
      },
      "outputs": [
        {
          "name": "stdout",
          "output_type": "stream",
          "text": [
            "+-----------------+-----------------+-------------------+--------------------+\n",
            "|             tag1|             tag2|co_occurrence_count|          similarity|\n",
            "+-----------------+-----------------+-------------------+--------------------+\n",
            "|           livedb|          racerjs|                  2| 0.14285714285714285|\n",
            "|        fluent-ui|   fluentui-react|                 24|0.031413612565445025|\n",
            "|easyphp-devserver|easyphp-webserver|                  1|0.047619047619047616|\n",
            "|          ggbreak|        manhattan|                  1| 0.02631578947368421|\n",
            "|          sunspot|    sunspot-rails|                 32|0.026122448979591838|\n",
            "+-----------------+-----------------+-------------------+--------------------+\n",
            "only showing top 5 rows\n",
            "\n"
          ]
        }
      ],
      "source": [
        "filtered_df.show(5)"
      ]
    },
    {
      "cell_type": "code",
      "execution_count": 30,
      "metadata": {
        "id": "7b8lh_ukrO6i"
      },
      "outputs": [],
      "source": [
        "# Prepare edges for an undirected graph (src, dst, weight)\n",
        "edges_df = filtered_df.select(\n",
        "    F.col(\"tag1\").alias(\"src\"),\n",
        "    F.col(\"tag2\").alias(\"dst\"),\n",
        "    F.col(\"similarity\").alias(\"weight\")\n",
        ")\n",
        "\n",
        "# Add reverse edges for undirected analysis\n",
        "reverse_edges_df = edges_df.select(\n",
        "    F.col(\"dst\").alias(\"src\"),\n",
        "    F.col(\"src\").alias(\"dst\"),\n",
        "    F.col(\"weight\")\n",
        ")"
      ]
    },
    {
      "cell_type": "code",
      "execution_count": 31,
      "metadata": {
        "id": "cqL70ocOrbHd"
      },
      "outputs": [],
      "source": [
        "# include all edges\n",
        "all_edges_df = edges_df.union(reverse_edges_df).distinct()"
      ]
    },
    {
      "cell_type": "code",
      "execution_count": 32,
      "metadata": {
        "colab": {
          "base_uri": "https://localhost:8080/"
        },
        "id": "vg-TCs-4rfED",
        "outputId": "a7654d0d-ecb3-4a00-feda-3782dfba38fa"
      },
      "outputs": [
        {
          "name": "stdout",
          "output_type": "stream",
          "text": [
            "+---------------+-----------------+--------------------+\n",
            "|            src|              dst|              weight|\n",
            "+---------------+-----------------+--------------------+\n",
            "| catalystbyzoho|     zohocatalyst| 0.04081632653061224|\n",
            "|      iso-image|          xorriso|0.045454545454545456|\n",
            "|   swagger-node|    swagger-tools|                0.04|\n",
            "|resourcesloader|resourcesprovider|                0.25|\n",
            "|           iiif|          mirador| 0.04878048780487805|\n",
            "+---------------+-----------------+--------------------+\n",
            "only showing top 5 rows\n",
            "\n"
          ]
        }
      ],
      "source": [
        "all_edges_df.show(5)"
      ]
    },
    {
      "cell_type": "code",
      "execution_count": 33,
      "metadata": {
        "id": "2j2ATaGCtEo2"
      },
      "outputs": [],
      "source": [
        "# Retreive counts for each tags form tag_df\n",
        "tags_count_df = tags_df.select(\n",
        "    F.col(\"_TagName\").alias(\"id\"),\n",
        "    F.col(\"_Count\").alias(\"usage_count\")\n",
        ").distinct()"
      ]
    },
    {
      "cell_type": "code",
      "execution_count": 34,
      "metadata": {
        "id": "CQ3Zi__LtS_-"
      },
      "outputs": [],
      "source": [
        "# Import GraphFrame for graph analysis\n",
        "from graphframes import GraphFrame"
      ]
    },
    {
      "cell_type": "code",
      "execution_count": 35,
      "metadata": {
        "colab": {
          "base_uri": "https://localhost:8080/"
        },
        "id": "_4ri6w94tcP2",
        "outputId": "61602948-f30d-4bab-80f7-5805815a1b78"
      },
      "outputs": [
        {
          "name": "stderr",
          "output_type": "stream",
          "text": [
            "/usr/local/lib/python3.11/dist-packages/pyspark/sql/dataframe.py:168: UserWarning: DataFrame.sql_ctx is an internal property, and will be removed in future releases. Use DataFrame.sparkSession instead.\n",
            "  warnings.warn(\n"
          ]
        }
      ],
      "source": [
        "# Build the GraphFrame\n",
        "g = GraphFrame(tags_count_df, all_edges_df)"
      ]
    },
    {
      "cell_type": "code",
      "execution_count": 36,
      "metadata": {
        "colab": {
          "base_uri": "https://localhost:8080/"
        },
        "id": "xiptSqV1trWH",
        "outputId": "56c4d2fd-991a-4d5b-acf7-3733a39779f7"
      },
      "outputs": [
        {
          "name": "stderr",
          "output_type": "stream",
          "text": [
            "/usr/local/lib/python3.11/dist-packages/pyspark/sql/dataframe.py:147: UserWarning: DataFrame constructor is internal. Do not directly use it.\n",
            "  warnings.warn(\"DataFrame constructor is internal. Do not directly use it.\")\n"
          ]
        }
      ],
      "source": [
        "# detect communities using label propagation for 5 iterations\n",
        "communities_df = g.labelPropagation(maxIter=5)"
      ]
    },
    {
      "cell_type": "code",
      "execution_count": 37,
      "metadata": {
        "colab": {
          "base_uri": "https://localhost:8080/"
        },
        "id": "wqJyF4Qn2LuZ",
        "outputId": "8ca0d329-2bbe-4f4c-ad72-517703c4d277"
      },
      "outputs": [
        {
          "name": "stdout",
          "output_type": "stream",
          "text": [
            "Columns: ['id', 'usage_count', 'label']\n",
            "root\n",
            " |-- id: string (nullable = true)\n",
            " |-- usage_count: long (nullable = true)\n",
            " |-- label: long (nullable = true)\n",
            "\n"
          ]
        }
      ],
      "source": [
        "print(\"Columns:\", communities_df.columns)\n",
        "communities_df.printSchema()"
      ]
    },
    {
      "cell_type": "code",
      "execution_count": 38,
      "metadata": {
        "id": "uR3YZugAm4Ht"
      },
      "outputs": [],
      "source": [
        "# Import window for window functions\n",
        "from pyspark.sql.window import Window"
      ]
    },
    {
      "cell_type": "code",
      "execution_count": 39,
      "metadata": {
        "id": "Iudj2hg_yNg-"
      },
      "outputs": [],
      "source": [
        "# Step 1. Rank each tag within its cluster by usage_count (highest first)\n",
        "window_by_label = Window.partitionBy(\"label\").orderBy(F.desc(\"usage_count\"))\n",
        "ranked_df = communities_df.withColumn(\"rank\", F.row_number().over(window_by_label))\n"
      ]
    },
    {
      "cell_type": "code",
      "execution_count": 40,
      "metadata": {
        "colab": {
          "base_uri": "https://localhost:8080/"
        },
        "id": "9vqQkKSI8PKu",
        "outputId": "2f6ad166-bac1-4231-a2fc-0987dece5c04"
      },
      "outputs": [
        {
          "name": "stdout",
          "output_type": "stream",
          "text": [
            "+--------------------+-----------+-----+----+\n",
            "|                  id|usage_count|label|rank|\n",
            "+--------------------+-----------+-----+----+\n",
            "|                .lib|        131|    0|   1|\n",
            "|          agility.js|          8|    1|   1|\n",
            "|        allow-modals|         12|    2|   1|\n",
            "|amazon-cognito-fa...|         65|    3|   1|\n",
            "|      android-alarms|       1182|    4|   1|\n",
            "|android-jetpack-c...|          5|    5|   1|\n",
            "|    android-manifest|       6111|    6|   1|\n",
            "|    android-security|        660|    7|   1|\n",
            "|android-shortcutm...|         19|    8|   1|\n",
            "|       angular-chart|        300|    9|   1|\n",
            "+--------------------+-----------+-----+----+\n",
            "only showing top 10 rows\n",
            "\n"
          ]
        }
      ],
      "source": [
        "ranked_df.show(10)"
      ]
    },
    {
      "cell_type": "code",
      "execution_count": 41,
      "metadata": {
        "id": "bmCazckC8h13"
      },
      "outputs": [],
      "source": [
        "# Step 2. Define \"core\" as the top 1 tag per cluster, and \"peripheral\" as the remaining tags.\n",
        "core_df = ranked_df.filter(F.col(\"rank\") == 1)\n",
        "peripheral_df = ranked_df.filter(F.col(\"rank\") > 1)"
      ]
    },
    {
      "cell_type": "code",
      "execution_count": 42,
      "metadata": {
        "id": "9XA1pLLv86yT"
      },
      "outputs": [],
      "source": [
        "# Step 3. Aggregate the tags for each cluster.\n",
        "# Use collect_list to create an array of core and peripheral tags.\n",
        "core_agg = core_df.groupBy(\"label\").agg(F.collect_list(\"id\").alias(\"core_tags\"))\n",
        "peripheral_agg = peripheral_df.groupBy(\"label\").agg(F.collect_list(\"id\").alias(\"peripheral_tags\"))\n"
      ]
    },
    {
      "cell_type": "code",
      "execution_count": 43,
      "metadata": {
        "id": "WjyNqXpP9AIb"
      },
      "outputs": [],
      "source": [
        "# Join the core and peripheral aggregations on the cluster label.\n",
        "clusters_df = core_agg.join(peripheral_agg, on=\"label\", how=\"outer\")"
      ]
    },
    {
      "cell_type": "code",
      "execution_count": 50,
      "metadata": {
        "colab": {
          "base_uri": "https://localhost:8080/"
        },
        "id": "ChBir5BqWLcb",
        "outputId": "758ef914-a225-49a0-8691-1901b0233539"
      },
      "outputs": [
        {
          "name": "stdout",
          "output_type": "stream",
          "text": [
            "+-----+--------------------+---------------+\n",
            "|label|           core_tags|peripheral_tags|\n",
            "+-----+--------------------+---------------+\n",
            "|    0|              [.lib]|           NULL|\n",
            "|    1|        [agility.js]|           NULL|\n",
            "|    5|[android-jetpack-...|           NULL|\n",
            "|    6|  [android-manifest]|           NULL|\n",
            "|    7|  [android-security]|           NULL|\n",
            "+-----+--------------------+---------------+\n",
            "only showing top 5 rows\n",
            "\n"
          ]
        }
      ],
      "source": [
        "clusters_df.show(5)"
      ]
    },
    {
      "cell_type": "code",
      "execution_count": 44,
      "metadata": {
        "id": "8jIEDom9RRyL"
      },
      "outputs": [],
      "source": [
        "# Filter out clusters that have multiple peripheral tags\n",
        "clusters_df_filtered = clusters_df.filter(\n",
        "    (F.col(\"peripheral_tags\").isNotNull()) & (F.size(\"peripheral_tags\") > 1)\n",
        ")"
      ]
    },
    {
      "cell_type": "code",
      "execution_count": 45,
      "metadata": {
        "colab": {
          "base_uri": "https://localhost:8080/"
        },
        "id": "SUBomWza9eGB",
        "outputId": "db1d39a4-96b8-4b92-d6c2-f53728223acb"
      },
      "outputs": [
        {
          "name": "stdout",
          "output_type": "stream",
          "text": [
            "+------------+--------------------+--------------------+\n",
            "|       label|           core_tags|     peripheral_tags|\n",
            "+------------+--------------------+--------------------+\n",
            "|103079215205|    [fastlane-pilot]|[unity3d-cloud-bu...|\n",
            "|214748364928|           [sciruby]|[daru, iruby, nma...|\n",
            "|283467841539|            [scully]|[scullyio, angula...|\n",
            "|283467841542|[android-virtuald...|[android-multi-di...|\n",
            "|326417514680|        [neshan-map]|[neshan, neshan-p...|\n",
            "+------------+--------------------+--------------------+\n",
            "only showing top 5 rows\n",
            "\n"
          ]
        }
      ],
      "source": [
        "clusters_df_filtered.show(5)"
      ]
    },
    {
      "cell_type": "markdown",
      "metadata": {
        "id": "9v3eWxnbKKvD"
      },
      "source": [
        "Here is A table showing 5 identified technology clusters with their core and peripheral technologies"
      ]
    },
    {
      "cell_type": "code",
      "execution_count": 46,
      "metadata": {
        "id": "GoMe-upiSzB1"
      },
      "outputs": [],
      "source": [
        "DF_show = clusters_df_filtered.limit(5)"
      ]
    },
    {
      "cell_type": "code",
      "execution_count": 47,
      "metadata": {
        "id": "3H5jh4QUT8OZ"
      },
      "outputs": [],
      "source": [
        "summary_df = DF_show.toPandas()"
      ]
    },
    {
      "cell_type": "code",
      "execution_count": 48,
      "metadata": {
        "id": "q6ahNny-UIbh"
      },
      "outputs": [],
      "source": [
        "import pandas as pd"
      ]
    },
    {
      "cell_type": "code",
      "execution_count": 49,
      "metadata": {
        "colab": {
          "base_uri": "https://localhost:8080/",
          "height": 206
        },
        "id": "yiL3uxBRUKG5",
        "outputId": "5ac355a1-bdf8-4ae1-db8f-43b698262736"
      },
      "outputs": [
        {
          "data": {
            "application/vnd.google.colaboratory.intrinsic+json": {
              "summary": "{\n  \"name\": \"summary_df\",\n  \"rows\": 5,\n  \"fields\": [\n    {\n      \"column\": \"label\",\n      \"properties\": {\n        \"dtype\": \"number\",\n        \"std\": 87474050100,\n        \"min\": 103079215205,\n        \"max\": 326417514680,\n        \"num_unique_values\": 5,\n        \"samples\": [\n          214748364928,\n          326417514680,\n          283467841539\n        ],\n        \"semantic_type\": \"\",\n        \"description\": \"\"\n      }\n    },\n    {\n      \"column\": \"core_tags\",\n      \"properties\": {\n        \"dtype\": \"object\",\n        \"semantic_type\": \"\",\n        \"description\": \"\"\n      }\n    },\n    {\n      \"column\": \"peripheral_tags\",\n      \"properties\": {\n        \"dtype\": \"object\",\n        \"semantic_type\": \"\",\n        \"description\": \"\"\n      }\n    }\n  ]\n}",
              "type": "dataframe",
              "variable_name": "summary_df"
            },
            "text/html": [
              "\n",
              "  <div id=\"df-10bacc57-7f84-4d15-bf6c-448ede89f7a2\" class=\"colab-df-container\">\n",
              "    <div>\n",
              "<style scoped>\n",
              "    .dataframe tbody tr th:only-of-type {\n",
              "        vertical-align: middle;\n",
              "    }\n",
              "\n",
              "    .dataframe tbody tr th {\n",
              "        vertical-align: top;\n",
              "    }\n",
              "\n",
              "    .dataframe thead th {\n",
              "        text-align: right;\n",
              "    }\n",
              "</style>\n",
              "<table border=\"1\" class=\"dataframe\">\n",
              "  <thead>\n",
              "    <tr style=\"text-align: right;\">\n",
              "      <th></th>\n",
              "      <th>label</th>\n",
              "      <th>core_tags</th>\n",
              "      <th>peripheral_tags</th>\n",
              "    </tr>\n",
              "  </thead>\n",
              "  <tbody>\n",
              "    <tr>\n",
              "      <th>0</th>\n",
              "      <td>103079215205</td>\n",
              "      <td>[fastlane-pilot]</td>\n",
              "      <td>[unity3d-cloud-build, unity-cloud-build]</td>\n",
              "    </tr>\n",
              "    <tr>\n",
              "      <th>1</th>\n",
              "      <td>214748364928</td>\n",
              "      <td>[sciruby]</td>\n",
              "      <td>[daru, iruby, nmatrix]</td>\n",
              "    </tr>\n",
              "    <tr>\n",
              "      <th>2</th>\n",
              "      <td>283467841539</td>\n",
              "      <td>[scully]</td>\n",
              "      <td>[scullyio, angular-scully, analogjs]</td>\n",
              "    </tr>\n",
              "    <tr>\n",
              "      <th>3</th>\n",
              "      <td>283467841542</td>\n",
              "      <td>[android-virtualdisplay]</td>\n",
              "      <td>[android-multi-display, android-presentation]</td>\n",
              "    </tr>\n",
              "    <tr>\n",
              "      <th>4</th>\n",
              "      <td>326417514680</td>\n",
              "      <td>[neshan-map]</td>\n",
              "      <td>[neshan, neshan-platform, neshan-android-sdk]</td>\n",
              "    </tr>\n",
              "  </tbody>\n",
              "</table>\n",
              "</div>\n",
              "    <div class=\"colab-df-buttons\">\n",
              "\n",
              "  <div class=\"colab-df-container\">\n",
              "    <button class=\"colab-df-convert\" onclick=\"convertToInteractive('df-10bacc57-7f84-4d15-bf6c-448ede89f7a2')\"\n",
              "            title=\"Convert this dataframe to an interactive table.\"\n",
              "            style=\"display:none;\">\n",
              "\n",
              "  <svg xmlns=\"http://www.w3.org/2000/svg\" height=\"24px\" viewBox=\"0 -960 960 960\">\n",
              "    <path d=\"M120-120v-720h720v720H120Zm60-500h600v-160H180v160Zm220 220h160v-160H400v160Zm0 220h160v-160H400v160ZM180-400h160v-160H180v160Zm440 0h160v-160H620v160ZM180-180h160v-160H180v160Zm440 0h160v-160H620v160Z\"/>\n",
              "  </svg>\n",
              "    </button>\n",
              "\n",
              "  <style>\n",
              "    .colab-df-container {\n",
              "      display:flex;\n",
              "      gap: 12px;\n",
              "    }\n",
              "\n",
              "    .colab-df-convert {\n",
              "      background-color: #E8F0FE;\n",
              "      border: none;\n",
              "      border-radius: 50%;\n",
              "      cursor: pointer;\n",
              "      display: none;\n",
              "      fill: #1967D2;\n",
              "      height: 32px;\n",
              "      padding: 0 0 0 0;\n",
              "      width: 32px;\n",
              "    }\n",
              "\n",
              "    .colab-df-convert:hover {\n",
              "      background-color: #E2EBFA;\n",
              "      box-shadow: 0px 1px 2px rgba(60, 64, 67, 0.3), 0px 1px 3px 1px rgba(60, 64, 67, 0.15);\n",
              "      fill: #174EA6;\n",
              "    }\n",
              "\n",
              "    .colab-df-buttons div {\n",
              "      margin-bottom: 4px;\n",
              "    }\n",
              "\n",
              "    [theme=dark] .colab-df-convert {\n",
              "      background-color: #3B4455;\n",
              "      fill: #D2E3FC;\n",
              "    }\n",
              "\n",
              "    [theme=dark] .colab-df-convert:hover {\n",
              "      background-color: #434B5C;\n",
              "      box-shadow: 0px 1px 3px 1px rgba(0, 0, 0, 0.15);\n",
              "      filter: drop-shadow(0px 1px 2px rgba(0, 0, 0, 0.3));\n",
              "      fill: #FFFFFF;\n",
              "    }\n",
              "  </style>\n",
              "\n",
              "    <script>\n",
              "      const buttonEl =\n",
              "        document.querySelector('#df-10bacc57-7f84-4d15-bf6c-448ede89f7a2 button.colab-df-convert');\n",
              "      buttonEl.style.display =\n",
              "        google.colab.kernel.accessAllowed ? 'block' : 'none';\n",
              "\n",
              "      async function convertToInteractive(key) {\n",
              "        const element = document.querySelector('#df-10bacc57-7f84-4d15-bf6c-448ede89f7a2');\n",
              "        const dataTable =\n",
              "          await google.colab.kernel.invokeFunction('convertToInteractive',\n",
              "                                                    [key], {});\n",
              "        if (!dataTable) return;\n",
              "\n",
              "        const docLinkHtml = 'Like what you see? Visit the ' +\n",
              "          '<a target=\"_blank\" href=https://colab.research.google.com/notebooks/data_table.ipynb>data table notebook</a>'\n",
              "          + ' to learn more about interactive tables.';\n",
              "        element.innerHTML = '';\n",
              "        dataTable['output_type'] = 'display_data';\n",
              "        await google.colab.output.renderOutput(dataTable, element);\n",
              "        const docLink = document.createElement('div');\n",
              "        docLink.innerHTML = docLinkHtml;\n",
              "        element.appendChild(docLink);\n",
              "      }\n",
              "    </script>\n",
              "  </div>\n",
              "\n",
              "\n",
              "<div id=\"df-44d6018a-dae8-4b4e-b7a4-1584c277fc78\">\n",
              "  <button class=\"colab-df-quickchart\" onclick=\"quickchart('df-44d6018a-dae8-4b4e-b7a4-1584c277fc78')\"\n",
              "            title=\"Suggest charts\"\n",
              "            style=\"display:none;\">\n",
              "\n",
              "<svg xmlns=\"http://www.w3.org/2000/svg\" height=\"24px\"viewBox=\"0 0 24 24\"\n",
              "     width=\"24px\">\n",
              "    <g>\n",
              "        <path d=\"M19 3H5c-1.1 0-2 .9-2 2v14c0 1.1.9 2 2 2h14c1.1 0 2-.9 2-2V5c0-1.1-.9-2-2-2zM9 17H7v-7h2v7zm4 0h-2V7h2v10zm4 0h-2v-4h2v4z\"/>\n",
              "    </g>\n",
              "</svg>\n",
              "  </button>\n",
              "\n",
              "<style>\n",
              "  .colab-df-quickchart {\n",
              "      --bg-color: #E8F0FE;\n",
              "      --fill-color: #1967D2;\n",
              "      --hover-bg-color: #E2EBFA;\n",
              "      --hover-fill-color: #174EA6;\n",
              "      --disabled-fill-color: #AAA;\n",
              "      --disabled-bg-color: #DDD;\n",
              "  }\n",
              "\n",
              "  [theme=dark] .colab-df-quickchart {\n",
              "      --bg-color: #3B4455;\n",
              "      --fill-color: #D2E3FC;\n",
              "      --hover-bg-color: #434B5C;\n",
              "      --hover-fill-color: #FFFFFF;\n",
              "      --disabled-bg-color: #3B4455;\n",
              "      --disabled-fill-color: #666;\n",
              "  }\n",
              "\n",
              "  .colab-df-quickchart {\n",
              "    background-color: var(--bg-color);\n",
              "    border: none;\n",
              "    border-radius: 50%;\n",
              "    cursor: pointer;\n",
              "    display: none;\n",
              "    fill: var(--fill-color);\n",
              "    height: 32px;\n",
              "    padding: 0;\n",
              "    width: 32px;\n",
              "  }\n",
              "\n",
              "  .colab-df-quickchart:hover {\n",
              "    background-color: var(--hover-bg-color);\n",
              "    box-shadow: 0 1px 2px rgba(60, 64, 67, 0.3), 0 1px 3px 1px rgba(60, 64, 67, 0.15);\n",
              "    fill: var(--button-hover-fill-color);\n",
              "  }\n",
              "\n",
              "  .colab-df-quickchart-complete:disabled,\n",
              "  .colab-df-quickchart-complete:disabled:hover {\n",
              "    background-color: var(--disabled-bg-color);\n",
              "    fill: var(--disabled-fill-color);\n",
              "    box-shadow: none;\n",
              "  }\n",
              "\n",
              "  .colab-df-spinner {\n",
              "    border: 2px solid var(--fill-color);\n",
              "    border-color: transparent;\n",
              "    border-bottom-color: var(--fill-color);\n",
              "    animation:\n",
              "      spin 1s steps(1) infinite;\n",
              "  }\n",
              "\n",
              "  @keyframes spin {\n",
              "    0% {\n",
              "      border-color: transparent;\n",
              "      border-bottom-color: var(--fill-color);\n",
              "      border-left-color: var(--fill-color);\n",
              "    }\n",
              "    20% {\n",
              "      border-color: transparent;\n",
              "      border-left-color: var(--fill-color);\n",
              "      border-top-color: var(--fill-color);\n",
              "    }\n",
              "    30% {\n",
              "      border-color: transparent;\n",
              "      border-left-color: var(--fill-color);\n",
              "      border-top-color: var(--fill-color);\n",
              "      border-right-color: var(--fill-color);\n",
              "    }\n",
              "    40% {\n",
              "      border-color: transparent;\n",
              "      border-right-color: var(--fill-color);\n",
              "      border-top-color: var(--fill-color);\n",
              "    }\n",
              "    60% {\n",
              "      border-color: transparent;\n",
              "      border-right-color: var(--fill-color);\n",
              "    }\n",
              "    80% {\n",
              "      border-color: transparent;\n",
              "      border-right-color: var(--fill-color);\n",
              "      border-bottom-color: var(--fill-color);\n",
              "    }\n",
              "    90% {\n",
              "      border-color: transparent;\n",
              "      border-bottom-color: var(--fill-color);\n",
              "    }\n",
              "  }\n",
              "</style>\n",
              "\n",
              "  <script>\n",
              "    async function quickchart(key) {\n",
              "      const quickchartButtonEl =\n",
              "        document.querySelector('#' + key + ' button');\n",
              "      quickchartButtonEl.disabled = true;  // To prevent multiple clicks.\n",
              "      quickchartButtonEl.classList.add('colab-df-spinner');\n",
              "      try {\n",
              "        const charts = await google.colab.kernel.invokeFunction(\n",
              "            'suggestCharts', [key], {});\n",
              "      } catch (error) {\n",
              "        console.error('Error during call to suggestCharts:', error);\n",
              "      }\n",
              "      quickchartButtonEl.classList.remove('colab-df-spinner');\n",
              "      quickchartButtonEl.classList.add('colab-df-quickchart-complete');\n",
              "    }\n",
              "    (() => {\n",
              "      let quickchartButtonEl =\n",
              "        document.querySelector('#df-44d6018a-dae8-4b4e-b7a4-1584c277fc78 button');\n",
              "      quickchartButtonEl.style.display =\n",
              "        google.colab.kernel.accessAllowed ? 'block' : 'none';\n",
              "    })();\n",
              "  </script>\n",
              "</div>\n",
              "\n",
              "    </div>\n",
              "  </div>\n"
            ],
            "text/plain": [
              "          label                 core_tags  \\\n",
              "0  103079215205          [fastlane-pilot]   \n",
              "1  214748364928                 [sciruby]   \n",
              "2  283467841539                  [scully]   \n",
              "3  283467841542  [android-virtualdisplay]   \n",
              "4  326417514680              [neshan-map]   \n",
              "\n",
              "                                 peripheral_tags  \n",
              "0       [unity3d-cloud-build, unity-cloud-build]  \n",
              "1                         [daru, iruby, nmatrix]  \n",
              "2           [scullyio, angular-scully, analogjs]  \n",
              "3  [android-multi-display, android-presentation]  \n",
              "4  [neshan, neshan-platform, neshan-android-sdk]  "
            ]
          },
          "execution_count": 49,
          "metadata": {},
          "output_type": "execute_result"
        }
      ],
      "source": [
        "summary_df.head()"
      ]
    }
  ],
  "metadata": {
    "colab": {
      "provenance": []
    },
    "kernelspec": {
      "display_name": "Python 3",
      "name": "python3"
    },
    "language_info": {
      "name": "python"
    }
  },
  "nbformat": 4,
  "nbformat_minor": 0
}
